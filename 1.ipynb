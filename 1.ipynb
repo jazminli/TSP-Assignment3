{
 "cells": [
  {
   "cell_type": "code",
   "execution_count": 3,
   "metadata": {},
   "outputs": [
    {
     "name": "stdout",
     "output_type": "stream",
     "text": [
      "最佳路径长度: 491.2602519402172\n"
     ]
    }
   ],
   "source": [
    "import numpy as np\n",
    "\n",
    "# 解析 TSP 文件\n",
    "def parse_tsp(file_name):\n",
    "    with open(file_name, 'r') as file:\n",
    "        lines = file.readlines()\n",
    "        cities = []\n",
    "        for line in lines:\n",
    "            parts = line.split()\n",
    "            if len(parts) == 3 and parts[0].isdigit():\n",
    "                cities.append((float(parts[1]), float(parts[2])))\n",
    "        return cities\n",
    "\n",
    "# 计算两点间距离\n",
    "def distance(city1, city2):\n",
    "    return np.sqrt((city1[0] - city2[0])**2 + (city1[1] - city2[1])**2)\n",
    "\n",
    "# 计算路径长度\n",
    "def path_length(cities, tour):\n",
    "    total_distance = 0\n",
    "    for i in range(len(tour)):\n",
    "        total_distance += distance(cities[tour[i-1]], cities[tour[i]])\n",
    "    return total_distance\n",
    "\n",
    "# 2-opt 算法\n",
    "def two_opt_swap(tour, i, j):\n",
    "    new_tour = list(tour[:i])\n",
    "    new_tour.extend(reversed(tour[i:j + 1]))\n",
    "    new_tour.extend(tour[j + 1:])\n",
    "    return np.array(new_tour)\n",
    "\n",
    "\n",
    "# 解析 .opt.tour 文件，以比较最优路径长度\n",
    "def parse_opt_tour(file_name):\n",
    "    with open(file_name, 'r') as file:\n",
    "        lines = file.readlines()\n",
    "        opt_tour = []\n",
    "        for line in lines:\n",
    "            parts = line.split()\n",
    "            if parts[0].isdigit():\n",
    "                opt_tour.append(int(parts[0]) - 1)  # 减1是因为TSP文件通常从1开始编号，而Python列表从0开始\n",
    "        return opt_tour\n",
    "\n",
    "# 根据 .opt.tour 文件计算路径长度\n",
    "def calculate_opt_length(cities, opt_tour):\n",
    "    total_distance = 0\n",
    "    for i in range(len(opt_tour)):\n",
    "        total_distance += distance(cities[opt_tour[i - 1]], cities[opt_tour[i]])\n",
    "    return total_distance\n",
    "\n",
    "# 模拟退火算法\n",
    "def simulated_annealing(cities, initial_temp, final_temp, alpha):\n",
    "    current_temp = initial_temp\n",
    "    current_tour = np.random.permutation(len(cities))\n",
    "    current_length = path_length(cities, current_tour)\n",
    "    \n",
    "    while current_temp > final_temp:\n",
    "        i, j = np.sort(np.random.choice(len(cities), 2, replace=False))\n",
    "        new_tour = two_opt_swap(current_tour, i, j)\n",
    "        new_length = path_length(cities, new_tour)\n",
    "        \n",
    "        if new_length < current_length or np.random.rand() < np.exp((current_length - new_length) / current_temp):\n",
    "            current_tour = new_tour\n",
    "            current_length = new_length\n",
    "            \n",
    "        current_temp *= alpha\n",
    "    \n",
    "    return current_tour, current_length\n",
    "\n",
    "# 解析 eli51.tsp 和 eli51.opt.tour 文件\n",
    "cities = parse_tsp('/Users/minkilee/2023-year/Block2/Stochastic-Simulation/Assignment3/TSP-Configurations/eil51.tsp.txt')\n",
    "opt_tour = parse_opt_tour('/Users/minkilee/2023-year/Block2/Stochastic-Simulation/Assignment3/TSP-Configurations/eil51.opt.tour.txt')\n",
    "opt_length = calculate_opt_length(cities, opt_tour)\n",
    "\n",
    "# 使用模拟退火算法找到的路径长度\n",
    "tour, length = simulated_annealing(cities, 10000, 0.001, 0.995)\n",
    "\n",
    "print(\"模拟退火找到的路径长度:\", length)\n",
    "print(\"最优路径长度:\", opt_length)"
   ]
  },
  {
   "cell_type": "code",
   "execution_count": null,
   "metadata": {},
   "outputs": [],
   "source": []
  }
 ],
 "metadata": {
  "kernelspec": {
   "display_name": "base",
   "language": "python",
   "name": "python3"
  },
  "language_info": {
   "codemirror_mode": {
    "name": "ipython",
    "version": 3
   },
   "file_extension": ".py",
   "mimetype": "text/x-python",
   "name": "python",
   "nbconvert_exporter": "python",
   "pygments_lexer": "ipython3",
   "version": "3.11.6"
  }
 },
 "nbformat": 4,
 "nbformat_minor": 2
}
